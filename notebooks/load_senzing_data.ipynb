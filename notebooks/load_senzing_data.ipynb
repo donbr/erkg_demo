{
 "cells": [
  {
   "cell_type": "code",
   "execution_count": 1,
   "id": "c17693a8-99ee-4090-81ae-d74991a12519",
   "metadata": {},
   "outputs": [],
   "source": [
    "import json\n",
    "from neo4j import GraphDatabase\n",
    "import numpy as np\n",
    "import pandas as pd\n",
    "from pprint import pprint\n",
    "import time\n",
    "from tqdm import tqdm\n",
    "\n",
    "pd.set_option('display.max_columns', None)\n",
    "pd.set_option('display.max_rows', 1000)"
   ]
  },
  {
   "cell_type": "markdown",
   "id": "378ea4b4-5bc3-4de7-b1ff-c5c1b8210025",
   "metadata": {},
   "source": [
    "## Senzing resolved data\n",
    "\n",
    "Prior to running this notebook, you need to have run the entity resolution within the Senzing Docker container.  Here I have export the results of that run to the file `entities.json`.  You can see below what that file looks like.  We will use this then to create relationships between resolved and related entities."
   ]
  },
  {
   "cell_type": "code",
   "execution_count": 2,
   "id": "ad18c06d-c447-4fe0-bccc-7f02b1d0a3f8",
   "metadata": {},
   "outputs": [],
   "source": [
    "data = []\n",
    "\n",
    "with open('./entities.json') as f:\n",
    "    for line in f:\n",
    "        data.append(json.loads(line))"
   ]
  },
  {
   "cell_type": "code",
   "execution_count": null,
   "id": "22cc4e1c-def8-4621-ba21-acbc3872b67d",
   "metadata": {},
   "outputs": [],
   "source": [
    "pprint(data[0])"
   ]
  },
  {
   "cell_type": "markdown",
   "id": "c527a1df-9269-4c71-865b-4085d5d0ec23",
   "metadata": {},
   "source": [
    "## Resolved entities\n",
    "\n",
    "For ease, I will create a dataframe just of the resolved entities and then one for the related entities.  Note that there can be multiple entities assigned to each resolved entity (see the example 2 lines down).  \n",
    "\n",
    "Note that for ease in visualization (among other things), I am going to create a new node type called `:Entity`, which will contain the resolved entities.  This will serve as a sort of \"anchor node\" for the clusters we will see form in graph."
   ]
  },
  {
   "cell_type": "code",
   "execution_count": 4,
   "id": "8a35b9de-fde0-464a-a62f-61ef19945486",
   "metadata": {},
   "outputs": [],
   "source": [
    "resolved_ls = []\n",
    "\n",
    "for el in data:\n",
    "    if len(el['RESOLVED_ENTITY']['RECORDS']) > 1:\n",
    "        resolved_ls.append(el)"
   ]
  },
  {
   "cell_type": "code",
   "execution_count": null,
   "id": "cbf0c7fb-f882-4c6d-b5a4-39b567fa769b",
   "metadata": {},
   "outputs": [],
   "source": [
    "pprint(resolved_ls[3])"
   ]
  },
  {
   "cell_type": "code",
   "execution_count": null,
   "id": "12e9f17c-ec34-42d6-9992-4507a1a0041c",
   "metadata": {},
   "outputs": [],
   "source": [
    "tup_ls = []\n",
    "for el in resolved_ls: \n",
    "    source = el['RESOLVED_ENTITY']['RECORDS'][0]\n",
    "    source_uid = str(el['RESOLVED_ENTITY']['RECORDS'][0]['DATA_SOURCE']) + '.' + str(el['RESOLVED_ENTITY']['RECORDS'][0]['RECORD_ID'])\n",
    "    for target in el['RESOLVED_ENTITY']['RECORDS'][1:]:\n",
    "        #tar = target\n",
    "        target_uid = str(target['DATA_SOURCE']) + '.' + str(target['RECORD_ID'])\n",
    "        tup = (el['RESOLVED_ENTITY']['RECORDS'][0]['DATA_SOURCE'],\n",
    "               source['ENTITY_DESC'], \n",
    "               source_uid, \n",
    "               target['DATA_SOURCE'],\n",
    "               target['ENTITY_DESC'], \n",
    "               target_uid)\n",
    "        tup_ls.append(tup)\n",
    "\n",
    "resolved_rel_df = pd.DataFrame(tup_ls, columns=['source_data_source', 'source_desc', 'source_uid',\n",
    "                                                'target_data_source', 'target_desc', 'target_uid'])\n",
    "resolved_rel_df.head()"
   ]
  },
  {
   "cell_type": "markdown",
   "id": "fb4a13c9-0ac9-4308-b86c-bc13be581f1f",
   "metadata": {},
   "source": [
    "## Related entities\n",
    "\n",
    "Similar to the above we need to create the relationships between the anchor node and the related entities.  "
   ]
  },
  {
   "cell_type": "code",
   "execution_count": null,
   "id": "87c3c7d5-2e4c-4c06-9ab5-81221b6aad9c",
   "metadata": {},
   "outputs": [],
   "source": [
    "tup_ls = []\n",
    "\n",
    "for el in data:\n",
    "    #pprint(el)\n",
    "    source = el['RESOLVED_ENTITY']['RECORDS'][0]\n",
    "    source_data_source = source['DATA_SOURCE']\n",
    "    source_desc = source['ENTITY_DESC']\n",
    "    source_uid = str(source_data_source) + '.' + str(source['RECORD_ID'])\n",
    "    for target in el['RELATED_ENTITIES']:\n",
    "        for la in target['RECORDS']:\n",
    "            target_uid = str(la['DATA_SOURCE']) + '.' + str(la['RECORD_ID'])\n",
    "            tup = (source_uid,\n",
    "                   source_data_source,\n",
    "                   source_desc,\n",
    "                   la['DATA_SOURCE'],\n",
    "                   target['MATCH_KEY'],\n",
    "                   target['MATCH_LEVEL'],\n",
    "                   target['MATCH_LEVEL_CODE'],\n",
    "                   target['IS_AMBIGUOUS'],\n",
    "                   target['IS_DISCLOSED'],\n",
    "                   target_uid)\n",
    "            tup_ls.append(tup)\n",
    "\n",
    "related_rel_df = pd.DataFrame(tup_ls, columns=['source_uid', 'source_data_source', 'source_desc', \n",
    "                                           'target_data_source', 'match_key', 'match_level', 'match_level_code', 'is_ambiguous',\n",
    "                                           'is_disclosed', 'target_uid'])\n",
    "related_rel_df.head()"
   ]
  },
  {
   "cell_type": "code",
   "execution_count": null,
   "id": "0f282b97-03df-46ac-a3b8-e4442e6b0f4d",
   "metadata": {},
   "outputs": [],
   "source": [
    "resolved_rel_df.shape, related_rel_df.shape"
   ]
  },
  {
   "cell_type": "markdown",
   "id": "faf46823-63da-4b9b-a72f-263499bbda84",
   "metadata": {},
   "source": [
    "### About this bit\n",
    "\n",
    "This is where we set up the actual `:Entity`/anchor nodes."
   ]
  },
  {
   "cell_type": "code",
   "execution_count": null,
   "id": "80a19e98-483e-4c92-9aa6-07ba1ecf0dfa",
   "metadata": {},
   "outputs": [],
   "source": [
    "keep_columns = ['source_data_source', 'source_desc', 'source_uid']\n",
    "ent_df = resolved_rel_df[keep_columns]\n",
    "ent_df_dedup = ent_df.drop_duplicates()\n",
    "ent_df.shape, ent_df_dedup.shape"
   ]
  },
  {
   "cell_type": "code",
   "execution_count": null,
   "id": "917553bd-4727-43af-8fc5-dea8cb53b791",
   "metadata": {},
   "outputs": [],
   "source": [
    "ent_df_dedup.head()"
   ]
  },
  {
   "cell_type": "markdown",
   "id": "595a110e-7962-4482-ad37-545d0239b26a",
   "metadata": {},
   "source": [
    "## Establish connection to Neo4j\n",
    "\n",
    "You could be running Neo4j in any variety of places. This demo shows running it locally. However, if you are hosting it somewhere else, replace the bolt address with yours. Also update your password below."
   ]
  },
  {
   "cell_type": "code",
   "execution_count": 11,
   "id": "89d6dcd7-83f2-46ac-8b49-04074ccba0b1",
   "metadata": {},
   "outputs": [],
   "source": [
    "URI = \"bolt://localhost:7687\"\n",
    "USER = \"neo4j\"\n",
    "PWD = \" \" # Put your password here\n",
    "AUTH = (USER, PWD)"
   ]
  },
  {
   "cell_type": "code",
   "execution_count": 12,
   "id": "8c91cf19-f99e-4358-86f1-5148e5d1ec26",
   "metadata": {},
   "outputs": [],
   "source": [
    "class Neo4jConnection:\n",
    "    \n",
    "    def __init__(self, uri, user, pwd):\n",
    "        self.__uri = uri\n",
    "        self.__user = user\n",
    "        self.__pwd = pwd\n",
    "        self.__driver = None\n",
    "        try:\n",
    "            self.__driver = GraphDatabase.driver(self.__uri, auth=(self.__user, self.__pwd))\n",
    "        except Exception as e:\n",
    "            print(\"Failed to create the driver:\", e)\n",
    "        \n",
    "    def close(self):\n",
    "        if self.__driver is not None:\n",
    "            self.__driver.close()\n",
    "        \n",
    "    def query(self, query, parameters=None, db=None):\n",
    "        assert self.__driver is not None, \"Driver not initialized!\"\n",
    "        session = None\n",
    "        response = None\n",
    "        try: \n",
    "            session = self.__driver.session(database=db) if db is not None else self.__driver.session() \n",
    "            response = list(session.run(query, parameters))\n",
    "        except Exception as e:\n",
    "            print(\"Query failed:\", e)\n",
    "        finally: \n",
    "            if session is not None:\n",
    "                session.close()\n",
    "        return response\n",
    "        \n",
    "\n",
    "def insert_data(query, rows, batch_size=1000):\n",
    "\n",
    "    total = 0\n",
    "    batch = 0\n",
    "    start = time.time()\n",
    "    result = None\n",
    "    \n",
    "    while batch * batch_size < len(rows):\n",
    "\n",
    "        res = neo_conn.query(query, \n",
    "                             parameters = {'rows': rows[batch*batch_size:(batch+1)*batch_size].to_dict('records')})\n",
    "        total += res[0]['total']\n",
    "        batch += 1\n",
    "        result = {\"total\":total, \n",
    "                  \"batches\":batch, \n",
    "                  \"time\":time.time()-start}\n",
    "        print(result)\n",
    "        \n",
    "    return result\n",
    "\n",
    "\n",
    "neo_conn = Neo4jConnection(uri=URI, user=USER, pwd=PWD)"
   ]
  },
  {
   "cell_type": "code",
   "execution_count": null,
   "id": "10bd56ba-ec09-4220-bbe5-dfe8e5b2184a",
   "metadata": {},
   "outputs": [],
   "source": [
    "neo_conn.query('CREATE CONSTRAINT ent IF NOT EXISTS FOR (e:Entity) REQUIRE e.uid IS UNIQUE')"
   ]
  },
  {
   "cell_type": "code",
   "execution_count": 21,
   "id": "dccee03d-bb44-41d6-95be-ad4364af66a2",
   "metadata": {},
   "outputs": [],
   "source": [
    "def add_ent(rows, batch_size=1000):\n",
    "\n",
    "    query = \"\"\"UNWIND $rows AS row\n",
    "               MERGE (:Entity {uid: row.source_uid,\n",
    "                               name: row.source_desc,\n",
    "                               data_source: row.source_data_source})\n",
    "               RETURN count(*) AS total\n",
    "    \"\"\"\n",
    "\n",
    "    return insert_data(query, rows, batch_size)\n",
    "\n",
    "\n",
    "def add_ent_rel(rows, batch_size=1000):\n",
    "\n",
    "    query = \"\"\"UNWIND $rows AS row\n",
    "               MATCH (source {uid: row.source_uid})\n",
    "               MATCH (target {uid: row.target_uid})\n",
    "               MERGE (source)-[:RESOLVES]->(target)\n",
    "               RETURN count(*) AS total\n",
    "    \"\"\"\n",
    "\n",
    "    return insert_data(query, rows, batch_size)\n",
    "\n",
    "\n",
    "def add_sg_related_rel(rows, batch_size=1000):\n",
    "\n",
    "    query = \"\"\"UNWIND $rows AS row\n",
    "               MATCH (source:Entity {uid: row.source_uid})\n",
    "               MATCH (target:SGEntity {uid:row.target_uid})\n",
    "               MERGE (target)-[:RELATED_TO {match_key: row.match_key,\n",
    "                                            match_level: row.match_level,\n",
    "                                            match_level_code: row.match_level_code,\n",
    "                                            is_ambiguous: row.is_ambiguous,\n",
    "                                            is_disclosed: row.is_disclosed}]->(source)\n",
    "               RETURN count(*) AS total\n",
    "    \"\"\"\n",
    "\n",
    "    return insert_data(query, rows, batch_size)\n",
    "\n",
    "\n",
    "def add_dol_related_rel(rows, batch_size=1000):\n",
    "\n",
    "    query = \"\"\"UNWIND $rows AS row\n",
    "               MATCH (source:Entity {uid: row.source_uid})\n",
    "               MATCH (target:DOLEntity {uid:row.target_uid})\n",
    "               MERGE (target)-[:RELATED_TO {match_key: row.match_key,\n",
    "                                            match_level: row.match_level,\n",
    "                                            match_level_code: row.match_level_code,\n",
    "                                            is_ambiguous: row.is_ambiguous,\n",
    "                                            is_disclosed: row.is_disclosed}]->(source)\n",
    "               RETURN count(*) AS total\n",
    "    \"\"\"\n",
    "\n",
    "    return insert_data(query, rows, batch_size)    \n",
    "\n",
    "def add_ppp_related_rel(rows, batch_size=1000):\n",
    "\n",
    "    query = \"\"\"UNWIND $rows AS row\n",
    "               MATCH (source:Entity {uid: row.source_uid})\n",
    "               MATCH (target:PPPEntity {uid:row.target_uid})\n",
    "               MERGE (target)-[:RELATED_TO {match_key: row.match_key,\n",
    "                                            match_level: row.match_level,\n",
    "                                            match_level_code: row.match_level_code,\n",
    "                                            is_ambiguous: row.is_ambiguous,\n",
    "                                            is_disclosed: row.is_disclosed}]->(source)\n",
    "               RETURN count(*) AS total\n",
    "    \"\"\"\n",
    "\n",
    "    return insert_data(query, rows, batch_size)"
   ]
  },
  {
   "cell_type": "code",
   "execution_count": null,
   "id": "05b5c2df-46f4-49fc-bc65-e1dc8b3ecfc3",
   "metadata": {},
   "outputs": [],
   "source": [
    "add_ent(ent_df_dedup)"
   ]
  },
  {
   "cell_type": "code",
   "execution_count": null,
   "id": "544f6604-40fe-4b93-bf27-8012911ca900",
   "metadata": {
    "scrolled": true
   },
   "outputs": [],
   "source": [
    "add_ent_rel(resolved_rel_df, batch_size=50)"
   ]
  },
  {
   "cell_type": "code",
   "execution_count": null,
   "id": "6fe4b3cc-9c5c-4467-83a3-1b57613e9c08",
   "metadata": {},
   "outputs": [],
   "source": [
    "sg_related_rel_df = related_rel_df[related_rel_df['target_data_source']==\"SAFEGRAPH\"]\n",
    "dol_related_rel_df = related_rel_df[related_rel_df['target_data_source']==\"DOL_WHISARD\"]\n",
    "ppp_related_rel_df = related_rel_df[related_rel_df['target_data_source']==\"PPP_LOANS\"]\n",
    "sg_related_rel_df.shape, dol_related_rel_df.shape, ppp_related_rel_df.shape"
   ]
  },
  {
   "cell_type": "code",
   "execution_count": null,
   "id": "3d2df313-29d5-4ac9-9e4c-cdf20f499551",
   "metadata": {
    "scrolled": true
   },
   "outputs": [],
   "source": [
    "add_sg_related_rel(sg_related_rel_df)"
   ]
  },
  {
   "cell_type": "code",
   "execution_count": null,
   "id": "ac84b109-c1b4-4154-8b72-0b1d608d6a64",
   "metadata": {},
   "outputs": [],
   "source": [
    "add_dol_related_rel(dol_related_rel_df)"
   ]
  },
  {
   "cell_type": "code",
   "execution_count": null,
   "id": "6b3db7d1-5aaf-417b-9b0e-d4525701d98d",
   "metadata": {},
   "outputs": [],
   "source": [
    "add_ppp_related_rel(ppp_related_rel_df)"
   ]
  },
  {
   "cell_type": "code",
   "execution_count": null,
   "id": "8fd046f4-bb67-4456-b051-40768b53c44b",
   "metadata": {},
   "outputs": [],
   "source": []
  }
 ],
 "metadata": {
  "kernelspec": {
   "display_name": "Python 3 (ipykernel)",
   "language": "python",
   "name": "python3"
  },
  "language_info": {
   "codemirror_mode": {
    "name": "ipython",
    "version": 3
   },
   "file_extension": ".py",
   "mimetype": "text/x-python",
   "name": "python",
   "nbconvert_exporter": "python",
   "pygments_lexer": "ipython3",
   "version": "3.10.12"
  }
 },
 "nbformat": 4,
 "nbformat_minor": 5
}
