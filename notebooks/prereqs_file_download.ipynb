{
 "cells": [
  {
   "cell_type": "code",
   "execution_count": 9,
   "metadata": {},
   "outputs": [],
   "source": [
    "import os\n",
    "import requests\n",
    "import zipfile\n",
    "\n",
    "# Ensure the data directory exists\n",
    "data_dir = './data'\n",
    "try:\n",
    "    os.makedirs(data_dir, exist_ok=True)\n",
    "except PermissionError as e:\n",
    "    print(f\"Error creating data directory: {e}\")\n",
    "    raise\n",
    "\n",
    "def download_file(url, filename):\n",
    "    \"\"\"\n",
    "    Downloads a file from a given URL to the specified filename.\n",
    "    \"\"\"\n",
    "    try:\n",
    "        response = requests.get(url, stream=True)\n",
    "        response.raise_for_status()\n",
    "        with open(filename, 'wb') as f:\n",
    "            for chunk in response.iter_content(chunk_size=8192):\n",
    "                f.write(chunk)\n",
    "        print(f\"Downloaded: {filename}\")\n",
    "    except requests.RequestException as e:\n",
    "        print(f\"Error downloading {url}: {e}\")\n",
    "        raise\n",
    "\n",
    "def download_and_extract_zip(url, dest_dir):\n",
    "    \"\"\"\n",
    "    Downloads a ZIP file from a URL and extracts its contents to a destination directory.\n",
    "    \"\"\"\n",
    "    filename = os.path.join(dest_dir, os.path.basename(url))\n",
    "\n",
    "    # Check if the file is already downloaded\n",
    "    if not os.path.exists(filename):\n",
    "        try:\n",
    "            download_file(url, filename)\n",
    "        except PermissionError as e:\n",
    "            print(f\"Permission denied when downloading to {filename}: {e}\")\n",
    "            raise\n",
    "    else:\n",
    "        print(f\"File already exists: {filename}\")\n",
    "\n",
    "    # Extract ZIP contents\n",
    "    try:\n",
    "        with zipfile.ZipFile(filename, 'r') as zip_ref:\n",
    "            zip_ref.extractall(dest_dir)\n",
    "        print(f\"Extracted: {filename} to {dest_dir}\")\n",
    "    except zipfile.BadZipFile as e:\n",
    "        print(f\"Error extracting {filename}: {e}\")\n",
    "        raise\n",
    "    except PermissionError as e:\n",
    "        print(f\"Permission denied when extracting {filename}: {e}\")\n",
    "        raise"
   ]
  },
  {
   "cell_type": "code",
   "execution_count": 11,
   "metadata": {},
   "outputs": [
    {
     "name": "stdout",
     "output_type": "stream",
     "text": [
      "File already exists: ./data/SafeGraph_LasVegas_Partial.json.zip\n",
      "Extracted: ./data/SafeGraph_LasVegas_Partial.json.zip to ./data\n"
     ]
    }
   ],
   "source": [
    "# Download SafeGraph data\n",
    "base_url = 'https://public-read-access.s3.amazonaws.com/SenzingComPosts/EvalData/'\n",
    "filename = 'SafeGraph_LasVegas_Partial.json.zip'\n",
    "\n",
    "download_and_extract_zip(base_url + filename, data_dir)"
   ]
  },
  {
   "cell_type": "code",
   "execution_count": 14,
   "metadata": {},
   "outputs": [
    {
     "name": "stdout",
     "output_type": "stream",
     "text": [
      "Downloaded: ./data/Dept_Labor_Whisard_LasVegas.json.zip\n",
      "Extracted: ./data/Dept_Labor_Whisard_LasVegas.json.zip to ./data\n"
     ]
    }
   ],
   "source": [
    "# Download Senzing Dept Labor Whisard data\n",
    "base_url = 'https://public-read-access.s3.amazonaws.com/SenzingComPosts/EvalData/'\n",
    "filename = 'Dept_Labor_Whisard_LasVegas.json.zip'\n",
    "\n",
    "download_and_extract_zip(base_url + filename, data_dir)"
   ]
  },
  {
   "cell_type": "code",
   "execution_count": 15,
   "metadata": {},
   "outputs": [
    {
     "name": "stdout",
     "output_type": "stream",
     "text": [
      "Downloaded: ./data/PPP_Loans_Over_150k_LasVegas.json.zip\n",
      "Extracted: ./data/PPP_Loans_Over_150k_LasVegas.json.zip to ./data\n"
     ]
    }
   ],
   "source": [
    "# downlaod PPP Load data\n",
    "base_url = 'https://public-read-access.s3.amazonaws.com/SenzingComPosts/EvalData/'\n",
    "filename = 'PPP_Loans_Over_150k_LasVegas.json.zip'\n",
    "\n",
    "download_and_extract_zip(base_url + filename, data_dir)"
   ]
  }
 ],
 "metadata": {
  "kernelspec": {
   "display_name": ".venv",
   "language": "python",
   "name": "python3"
  },
  "language_info": {
   "codemirror_mode": {
    "name": "ipython",
    "version": 3
   },
   "file_extension": ".py",
   "mimetype": "text/x-python",
   "name": "python",
   "nbconvert_exporter": "python",
   "pygments_lexer": "ipython3",
   "version": "3.10.13"
  }
 },
 "nbformat": 4,
 "nbformat_minor": 2
}
